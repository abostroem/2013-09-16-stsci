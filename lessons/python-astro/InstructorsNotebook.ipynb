{
 "metadata": {
  "name": "InstructorsNotebook"
 },
 "nbformat": 3,
 "nbformat_minor": 0,
 "worksheets": [
  {
   "cells": [
    {
     "cell_type": "markdown",
     "metadata": {},
     "source": [
      "#Astronomy Examples in Python"
     ]
    },
    {
     "cell_type": "markdown",
     "metadata": {},
     "source": [
      "##An intro to <code>numpy</code> and <code>astropy</code>"
     ]
    },
    {
     "cell_type": "markdown",
     "metadata": {},
     "source": [
      "###<code>numpy</code> arrays"
     ]
    },
    {
     "cell_type": "code",
     "collapsed": false,
     "input": [
      "import numpy as np"
     ],
     "language": "python",
     "metadata": {},
     "outputs": [],
     "prompt_number": 2
    },
    {
     "cell_type": "code",
     "collapsed": false,
     "input": [
      "#Convert list to an array\n",
      "xlist = range(10)\n",
      "print xlist"
     ],
     "language": "python",
     "metadata": {},
     "outputs": [
      {
       "output_type": "stream",
       "stream": "stdout",
       "text": [
        "[0, 1, 2, 3, 4, 5, 6, 7, 8, 9]\n"
       ]
      }
     ],
     "prompt_number": 3
    },
    {
     "cell_type": "code",
     "collapsed": false,
     "input": [
      "xarray = np.array(xlist)\n",
      "print xarray"
     ],
     "language": "python",
     "metadata": {},
     "outputs": [
      {
       "output_type": "stream",
       "stream": "stdout",
       "text": [
        "[0 1 2 3 4 5 6 7 8 9]\n"
       ]
      }
     ],
     "prompt_number": 4
    },
    {
     "cell_type": "code",
     "collapsed": false,
     "input": [
      "print type(xlist)\n",
      "print type(xarray)"
     ],
     "language": "python",
     "metadata": {},
     "outputs": [
      {
       "output_type": "stream",
       "stream": "stdout",
       "text": [
        "<type 'list'>\n",
        "<type 'numpy.ndarray'>\n"
       ]
      }
     ],
     "prompt_number": 6
    },
    {
     "cell_type": "code",
     "collapsed": false,
     "input": [
      "#or \n",
      "xarray = np.arange(10)\n",
      "print xarray\n",
      "type(xarray)"
     ],
     "language": "python",
     "metadata": {},
     "outputs": [
      {
       "output_type": "stream",
       "stream": "stdout",
       "text": [
        "[0 1 2 3 4 5 6 7 8 9]\n"
       ]
      },
      {
       "output_type": "pyout",
       "prompt_number": 9,
       "text": [
        "numpy.ndarray"
       ]
      }
     ],
     "prompt_number": 9
    },
    {
     "cell_type": "code",
     "collapsed": false,
     "input": [
      "#multiplication\n",
      "print \"this is what happens when you multiply an array by 2\"\n",
      "print 2*xarray\n",
      "print \"this is what happens when you multiply a list by 2\"\n",
      "print 2 * xlist"
     ],
     "language": "python",
     "metadata": {},
     "outputs": [
      {
       "output_type": "stream",
       "stream": "stdout",
       "text": [
        "this is what happens when you multiply an array by 2\n",
        "[ 0  2  4  6  8 10 12 14 16 18]\n",
        "this is what happens when you multiply a list by 2\n",
        "[0, 1, 2, 3, 4, 5, 6, 7, 8, 9, 0, 1, 2, 3, 4, 5, 6, 7, 8, 9]\n"
       ]
      }
     ],
     "prompt_number": 29
    },
    {
     "cell_type": "code",
     "collapsed": false,
     "input": [
      "#Multiplication of arrays of the same size is performed pair-wise, not at matrix multiplication\n",
      "print xarray*xarray"
     ],
     "language": "python",
     "metadata": {},
     "outputs": [
      {
       "output_type": "stream",
       "stream": "stdout",
       "text": [
        "[ 0  1  4  9 16 25 36 49 64 81]\n"
       ]
      }
     ],
     "prompt_number": 30
    },
    {
     "cell_type": "code",
     "collapsed": false,
     "input": [
      "#Addition\n",
      "print xarray + 3\n",
      "print xarray + xarray"
     ],
     "language": "python",
     "metadata": {},
     "outputs": [
      {
       "output_type": "stream",
       "stream": "stdout",
       "text": [
        "[ 3  4  5  6  7  8  9 10 11 12]\n",
        "[ 0  2  4  6  8 10 12 14 16 18]\n"
       ]
      }
     ],
     "prompt_number": 31
    },
    {
     "cell_type": "markdown",
     "metadata": {},
     "source": [
      "####array methods and functions"
     ]
    },
    {
     "cell_type": "code",
     "collapsed": false,
     "input": [
      "#max\n",
      "array_max = xarray.max()\n",
      "print array_max\n",
      "#min\n",
      "array_min = xarray.min()\n",
      "print array_min\n",
      "#mean\n",
      "array_mean = xarray.mean()\n",
      "print array_mean"
     ],
     "language": "python",
     "metadata": {},
     "outputs": [
      {
       "output_type": "stream",
       "stream": "stdout",
       "text": [
        "9\n",
        "0\n",
        "4.5\n"
       ]
      }
     ],
     "prompt_number": 18
    },
    {
     "cell_type": "code",
     "collapsed": false,
     "input": [
      "#sort\n",
      "new_array = np.array([3, 1, 6, 2, 8])\n",
      "sorted_array = np.sort(new_array)\n",
      "print sorted_array"
     ],
     "language": "python",
     "metadata": {},
     "outputs": [
      {
       "output_type": "stream",
       "stream": "stdout",
       "text": [
        "[1 2 3 6 8]\n"
       ]
      }
     ],
     "prompt_number": 26
    },
    {
     "cell_type": "code",
     "collapsed": false,
     "input": [
      "#Get index to sort array\n",
      "indx = np.argsort(new_array)\n",
      "print new_array\n",
      "print indx"
     ],
     "language": "python",
     "metadata": {},
     "outputs": [
      {
       "output_type": "stream",
       "stream": "stdout",
       "text": [
        "[3 1 6 2 8]\n",
        "[1 3 0 2 4]\n"
       ]
      }
     ],
     "prompt_number": 27
    },
    {
     "cell_type": "code",
     "collapsed": false,
     "input": [
      "print new_array[indx[0]]"
     ],
     "language": "python",
     "metadata": {},
     "outputs": [
      {
       "output_type": "stream",
       "stream": "stdout",
       "text": [
        "3\n"
       ]
      }
     ],
     "prompt_number": 28
    },
    {
     "cell_type": "markdown",
     "metadata": {},
     "source": [
      "###Reading text files"
     ]
    },
    {
     "cell_type": "code",
     "collapsed": false,
     "input": [
      "from astropy.io import ascii"
     ],
     "language": "python",
     "metadata": {},
     "outputs": [],
     "prompt_number": 38
    },
    {
     "cell_type": "code",
     "collapsed": false,
     "input": [
      "solar_system_data = ascii.read('../../data/astro/solarsystem.txt', data_start = 5, names = ['Name', '#', 'Orbits', 'Distance', 'period', 'Incl', 'Eccen'])\n",
      "print exoplanet_data"
     ],
     "language": "python",
     "metadata": {},
     "outputs": [
      {
       "output_type": "stream",
       "stream": "stdout",
       "text": [
        "  Name    #   Orbits Distance  period  Incl Eccen\n",
        "-------- --- ------- -------- ------- ----- -----\n",
        "   Venus   2     Sun   108200   224.7  3.39  0.01\n",
        "   Earth   3     Sun   149600  365.26   0.0  0.02\n",
        "    Mars   4     Sun   227940  686.98  1.85  0.09\n",
        " Jupiter   5     Sun   778330 4332.71  1.31  0.05\n",
        "  Saturn   6     Sun  1429400 10759.5  2.49  0.06\n",
        "  Uranus   7     Sun  2870990 30685.0  0.77  0.05\n",
        " Neptune   8     Sun  4504300 60190.0  1.77  0.01\n",
        "   Pluto   9     Sun  5913520 90550.0 17.15  0.25\n",
        "    Moon   1   Earth      384   27.32  5.14  0.05\n",
        "  Phobos   1    Mars        9    0.32   1.0  0.02\n",
        "  Deimos   2    Mars       23    1.26   1.8   0.0\n",
        "     ... ...     ...      ...     ...   ...   ...\n",
        "Prospero  18  Uranus    16568 -2019.0 152.0  0.44\n",
        " Setebos  19  Uranus    17681 -2239.0 158.0  0.57\n",
        "   Naiad   3 Neptune       48    0.29   0.0   0.0\n",
        "Thalassa   4 Neptune       50    0.31   4.5   0.0\n",
        " Despina   5 Neptune       53    0.33   0.0   0.0\n",
        " Galatea   6 Neptune       62    0.43   0.0   0.0\n",
        " Larissa   7 Neptune       74    0.55   0.0   0.0\n",
        " Proteus   8 Neptune      118    1.12   0.0   0.0\n",
        "  Triton   1 Neptune      355   -5.88 157.0   0.0\n",
        "  Nereid   2 Neptune     5513  360.13  29.0  0.75\n",
        "  Charon   1   Pluto       20    6.39  98.8   0.0\n"
       ]
      }
     ],
     "prompt_number": 51
    },
    {
     "cell_type": "code",
     "collapsed": false,
     "input": [
      "solar_system_data.colnames"
     ],
     "language": "python",
     "metadata": {},
     "outputs": [
      {
       "output_type": "pyout",
       "prompt_number": 52,
       "text": [
        "['Name', '#', 'Orbits', 'Distance', 'period', 'Incl', 'Eccen']"
       ]
      }
     ],
     "prompt_number": 52
    },
    {
     "cell_type": "code",
     "collapsed": false,
     "input": [
      "print solar_system_data['Name']"
     ],
     "language": "python",
     "metadata": {},
     "outputs": [
      {
       "output_type": "stream",
       "stream": "stdout",
       "text": [
        "  Name  \n",
        "--------\n",
        "   Venus\n",
        "   Earth\n",
        "    Mars\n",
        " Jupiter\n",
        "  Saturn\n",
        "  Uranus\n",
        " Neptune\n",
        "   Pluto\n",
        "    Moon\n",
        "  Phobos\n",
        "  Deimos\n",
        "     ...\n",
        "Prospero\n",
        " Setebos\n",
        "   Naiad\n",
        "Thalassa\n",
        " Despina\n",
        " Galatea\n",
        " Larissa\n",
        " Proteus\n",
        "  Triton\n",
        "  Nereid\n",
        "  Charon\n"
       ]
      }
     ],
     "prompt_number": 53
    },
    {
     "cell_type": "code",
     "collapsed": false,
     "input": [
      "####Find which planets orbit the Sun"
     ],
     "language": "python",
     "metadata": {},
     "outputs": [],
     "prompt_number": 55
    },
    {
     "cell_type": "code",
     "collapsed": false,
     "input": [
      "orbits_sun_indx = np.where(solar_system_data['Orbits'] == 'Sun')\n",
      "print orbits_sun_indx\n",
      "print solar_system_data['Name'][orbits_sun_indx]"
     ],
     "language": "python",
     "metadata": {},
     "outputs": [
      {
       "output_type": "stream",
       "stream": "stdout",
       "text": [
        "(array([0, 1, 2, 3, 4, 5, 6, 7]),)\n",
        "  Name \n",
        "-------\n",
        "  Venus\n",
        "  Earth\n",
        "   Mars\n",
        "Jupiter\n",
        " Saturn\n",
        " Uranus\n",
        "Neptune\n",
        "  Pluto\n"
       ]
      }
     ],
     "prompt_number": 56
    },
    {
     "cell_type": "markdown",
     "metadata": {},
     "source": [
      "##Exercise:\n",
      "1. Find the max, min, and mean orbital distance of the moons of Neptune\n",
      "2. Which of Neptune's moons orbits closest to Neptune?"
     ]
    },
    {
     "cell_type": "code",
     "collapsed": false,
     "input": [
      "#Solution:\n",
      "solar_system_data = ascii.read('../../data/astro/solarsystem.txt', data_start = 5, names = ['Name', '#', 'Orbits', 'Distance', 'period', 'Incl', 'Eccen'])\n",
      "\n",
      "#1\n",
      "neptune_obj_indx = np.where(solar_system_data['Orbits'] == 'Neptune')\n",
      "print 'mean orbital distance = ', np.mean(solar_system_data['Distance'][neptune_obj_indx])\n",
      "print 'max orbital distance = ', np.max(solar_system_data['Distance'][neptune_obj_indx])\n",
      "print 'min orbital distance = ', np.min(solar_system_data['Distance'][neptune_obj_indx])\n",
      "\n",
      "#2\n",
      "min_indx = solar_system_data['Distance'][neptune_obj_indx].argmin()\n",
      "print 'Closest moon to Neptune = ', solar_system_data['Name'][neptune_obj_indx][min_indx]"
     ],
     "language": "python",
     "metadata": {},
     "outputs": [
      {
       "output_type": "stream",
       "stream": "stdout",
       "text": [
        "mean orbital distance =  784.125\n",
        "max orbital distance =  5513\n",
        "min orbital distance =  48\n",
        "Closest moon to Neptune =  Naiad\n"
       ]
      }
     ],
     "prompt_number": 61
    },
    {
     "cell_type": "markdown",
     "metadata": {},
     "source": [
      "##Example 2: Reading, writing and Displaying Images"
     ]
    },
    {
     "cell_type": "code",
     "collapsed": false,
     "input": [
      "from astropy.io import fits as pyfits\n",
      "from matplotlib import pyplot"
     ],
     "language": "python",
     "metadata": {},
     "outputs": [],
     "prompt_number": 62
    },
    {
     "cell_type": "code",
     "collapsed": false,
     "input": [],
     "language": "python",
     "metadata": {},
     "outputs": []
    }
   ],
   "metadata": {}
  }
 ]
}